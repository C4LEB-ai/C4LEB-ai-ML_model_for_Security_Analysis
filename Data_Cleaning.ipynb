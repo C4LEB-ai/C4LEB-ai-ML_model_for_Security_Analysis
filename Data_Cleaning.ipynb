{
 "cells": [
  {
   "cell_type": "markdown",
   "id": "99d01916",
   "metadata": {},
   "source": [
    "Project Context\n",
    "- \n",
    "Cybersecurity is seriously threatened by malicious websites or URLs. Malicious URLs host unsolicited content (spam, phishing, drive-by downloads, etc.) and deceive users into falling for scams (including financial loss, identity theft, and malware installation), resulting in billions of dollars in losses each year. In order to build a machine learning-based model to recognize malicious urls and prevent them from infecting computer systems or spreading through the internet, I have gathered this dataset, which contains many examples of malicious urls using the following sources.\n",
    "1) https://www.unb.ca/cic/datasets/url-2016.html\n",
    "</br>\n",
    "2) https://github.com/faizann24/Using-machine-learning-to-detect-malicious-URLs/tree/master/data\n",
    "</br>\n",
    "3) https://www.phishtank.com/developer_info.php\n",
    "</\n",
    "4) https://research.aalto.fi/en/datasets/phishstorm-phishing-legitimate-url-dataset"
   ]
  },
  {
   "cell_type": "code",
   "execution_count": 967,
   "id": "95f5ca5f",
   "metadata": {},
   "outputs": [],
   "source": [
    "import pandas as pd\n",
    "import numpy as np\n",
    "\n",
    "#reading the various datasets\n",
    "benign = pd.read_csv(\"Benign_list_big_final.csv\")\n",
    "defacement = pd.read_csv(\"DefacementSitesURLFiltered.csv\")\n",
    "malware = pd.read_csv(\"Malware_dataset.csv\", sep = \"\\t\")\n",
    "phishing_2 = pd.read_csv(\"phishing_dataset.csv\")\n",
    "spam = pd.read_csv(\"spam_dataset.csv\")\n",
    "verified_online = pd.read_csv(\"verified_online.csv\")\n",
    "data2 = pd.read_csv(\"data2.csv\")\n",
    "\n",
    "malware1 = pd.read_csv(\"malware.csv\")\n",
    "malware1 = malware1.query(\"type == 'malware'\")\n",
    "\n",
    "\n",
    "data1 = pd.read_csv(\"data.csv\")\n",
    "data1.columns = ['url', 'type']\n",
    "data1.type.replace('good', 'benign', inplace = True)\n",
    "\n",
    "df = pd.read_csv(\"urlset.csv\", sep = ',', encoding = 'latin1', error_bad_lines=False)"
   ]
  },
  {
   "cell_type": "markdown",
   "id": "726b8e4d",
   "metadata": {},
   "source": [
    "## Performing Data Clearning"
   ]
  },
  {
   "cell_type": "code",
   "execution_count": 971,
   "id": "703f1928",
   "metadata": {},
   "outputs": [
    {
     "name": "stdout",
     "output_type": "stream",
     "text": [
      "Index(['url'], dtype='object') (47904, 1)\n"
     ]
    },
    {
     "data": {
      "text/plain": [
       "(Index(['url'], dtype='object'), (48009, 1))"
      ]
     },
     "execution_count": 971,
     "metadata": {},
     "output_type": "execute_result"
    }
   ],
   "source": [
    "phishing = df.query('label==1.0')\n",
    "phishing = phishing.iloc[ : ,0:1]\n",
    "phishing.columns = [\"url\"]\n",
    "print(phishing.columns, phishing.shape)\n",
    "\n",
    "# selecting the legitimate urls\n",
    "legitimate = df.query('label==0.0')\n",
    "legitimate = legitimate.iloc[ : ,0:1]\n",
    "legitimate.columns = [\"url\"]\n",
    "legitimate.columns, legitimate.shape"
   ]
  },
  {
   "cell_type": "code",
   "execution_count": 972,
   "id": "a2eaea4c",
   "metadata": {},
   "outputs": [],
   "source": [
    "# legitimate.columns = [\"url\"]\n",
    "def type_(x):\n",
    "    u = []\n",
    "    for i in range(x):\n",
    "        c = 'phishing'\n",
    "        u.append(c)\n",
    "    col = ['type']\n",
    "    return u\n",
    "phishing['type'] = [x for x in type_(phishing.shape[0])]"
   ]
  },
  {
   "cell_type": "code",
   "execution_count": 973,
   "id": "8952721c",
   "metadata": {},
   "outputs": [],
   "source": [
    "# legitimate.columns = [\"url\"]\n",
    "def type_(x):\n",
    "    u = []\n",
    "    for i in range(x):\n",
    "        c = 'benign'\n",
    "        u.append(c)\n",
    "    col = ['type']\n",
    "    return u\n",
    "legitimate['type'] = [x for x in type_(legitimate.shape[0])]"
   ]
  },
  {
   "cell_type": "code",
   "execution_count": 974,
   "id": "615b4faf",
   "metadata": {},
   "outputs": [],
   "source": [
    "defacement.columns = [\"url\"]\n",
    "def type_(x):\n",
    "    u = []\n",
    "    for i in range(x):\n",
    "        c = 'defacement'\n",
    "        u.append(c)\n",
    "    col = ['type']\n",
    "    return pd.DataFrame(data = u, columns = col)\n",
    "\n",
    "defacement= pd.concat([defacement, type_(defacement.shape[0])], axis =1)"
   ]
  },
  {
   "cell_type": "code",
   "execution_count": 975,
   "id": "0d809e95",
   "metadata": {},
   "outputs": [],
   "source": [
    "malware.columns = ['url']\n",
    "def type_(x):\n",
    "    u = []\n",
    "    for i in range(x):\n",
    "        c = 'malware'\n",
    "        u.append(c)\n",
    "    col = ['type']\n",
    "    return u\n",
    "malware['type'] = [x for x in type_(malware.shape[0])]"
   ]
  },
  {
   "cell_type": "code",
   "execution_count": 976,
   "id": "0329fc30",
   "metadata": {},
   "outputs": [],
   "source": [
    "phishing_2.columns = ['url']\n",
    "def type_(x):\n",
    "    u = []\n",
    "    for i in range(x):\n",
    "        c = 'phishing'\n",
    "        u.append(c)\n",
    "    col = ['type']\n",
    "    return pd.DataFrame(data = u, columns = col)\n",
    "\n",
    "phishing_2 = pd.concat([phishing_2, type_(phishing_2.shape[0])], axis = 1)"
   ]
  },
  {
   "cell_type": "code",
   "execution_count": 977,
   "id": "c0d72a68",
   "metadata": {},
   "outputs": [],
   "source": [
    "benign.columns = ['url']\n",
    "def type_(x):\n",
    "    u = []\n",
    "    for i in range(x):\n",
    "        c = 'benign'\n",
    "        u.append(c)\n",
    "    col = ['type']\n",
    "    return pd.DataFrame(data = u, columns = col)\n",
    "\n",
    "benign = pd.concat([benign, type_(benign.shape[0])], axis = 1)"
   ]
  },
  {
   "cell_type": "code",
   "execution_count": 978,
   "id": "8ac710ae",
   "metadata": {},
   "outputs": [],
   "source": [
    "verified_online = verified_online.iloc[:,1:2]\n",
    "def type_(x):\n",
    "    u = []\n",
    "    for i in range(x):\n",
    "        c = 'phishing'\n",
    "        u.append(c)\n",
    "    col = ['type']\n",
    "    return pd.DataFrame(data = u, columns = col)\n",
    "\n",
    "verified_online = pd.concat([verified_online, type_(verified_online.shape[0])], axis = 1)"
   ]
  },
  {
   "cell_type": "markdown",
   "id": "56000435",
   "metadata": {},
   "source": [
    "# viewing and accessing the transformed datasets"
   ]
  },
  {
   "cell_type": "code",
   "execution_count": 979,
   "id": "933636be",
   "metadata": {},
   "outputs": [
    {
     "data": {
      "text/html": [
       "<div>\n",
       "<style scoped>\n",
       "    .dataframe tbody tr th:only-of-type {\n",
       "        vertical-align: middle;\n",
       "    }\n",
       "\n",
       "    .dataframe tbody tr th {\n",
       "        vertical-align: top;\n",
       "    }\n",
       "\n",
       "    .dataframe thead th {\n",
       "        text-align: right;\n",
       "    }\n",
       "</style>\n",
       "<table border=\"1\" class=\"dataframe\">\n",
       "  <thead>\n",
       "    <tr style=\"text-align: right;\">\n",
       "      <th></th>\n",
       "      <th>url</th>\n",
       "      <th>type</th>\n",
       "    </tr>\n",
       "  </thead>\n",
       "  <tbody>\n",
       "    <tr>\n",
       "      <th>0</th>\n",
       "      <td>https://irsdrawbk.info/m5fu</td>\n",
       "      <td>phishing</td>\n",
       "    </tr>\n",
       "    <tr>\n",
       "      <th>1</th>\n",
       "      <td>https://irsdrawbk.info/Ub91r</td>\n",
       "      <td>phishing</td>\n",
       "    </tr>\n",
       "    <tr>\n",
       "      <th>2</th>\n",
       "      <td>https://besichangei.us/</td>\n",
       "      <td>phishing</td>\n",
       "    </tr>\n",
       "    <tr>\n",
       "      <th>3</th>\n",
       "      <td>https://webprestamoextracash-solicitud.com/</td>\n",
       "      <td>phishing</td>\n",
       "    </tr>\n",
       "    <tr>\n",
       "      <th>4</th>\n",
       "      <td>http://tophyips.site/</td>\n",
       "      <td>phishing</td>\n",
       "    </tr>\n",
       "    <tr>\n",
       "      <th>...</th>\n",
       "      <td>...</td>\n",
       "      <td>...</td>\n",
       "    </tr>\n",
       "    <tr>\n",
       "      <th>64854</th>\n",
       "      <td>http://www.formbuddy.com/cgi-bin/formdisp.pl?u...</td>\n",
       "      <td>phishing</td>\n",
       "    </tr>\n",
       "    <tr>\n",
       "      <th>64855</th>\n",
       "      <td>https://sites.google.com/site/libretyreserve/</td>\n",
       "      <td>phishing</td>\n",
       "    </tr>\n",
       "    <tr>\n",
       "      <th>64856</th>\n",
       "      <td>http://www.habbocreditosparati.blogspot.com/</td>\n",
       "      <td>phishing</td>\n",
       "    </tr>\n",
       "    <tr>\n",
       "      <th>64857</th>\n",
       "      <td>http://creditiperhabbogratissicuro100.blogspot...</td>\n",
       "      <td>phishing</td>\n",
       "    </tr>\n",
       "    <tr>\n",
       "      <th>64858</th>\n",
       "      <td>http://aijcs.blogspot.com/2005/03/colourful-li...</td>\n",
       "      <td>phishing</td>\n",
       "    </tr>\n",
       "  </tbody>\n",
       "</table>\n",
       "<p>64859 rows × 2 columns</p>\n",
       "</div>"
      ],
      "text/plain": [
       "                                                     url      type\n",
       "0                            https://irsdrawbk.info/m5fu  phishing\n",
       "1                           https://irsdrawbk.info/Ub91r  phishing\n",
       "2                                https://besichangei.us/  phishing\n",
       "3            https://webprestamoextracash-solicitud.com/  phishing\n",
       "4                                  http://tophyips.site/  phishing\n",
       "...                                                  ...       ...\n",
       "64854  http://www.formbuddy.com/cgi-bin/formdisp.pl?u...  phishing\n",
       "64855      https://sites.google.com/site/libretyreserve/  phishing\n",
       "64856       http://www.habbocreditosparati.blogspot.com/  phishing\n",
       "64857  http://creditiperhabbogratissicuro100.blogspot...  phishing\n",
       "64858  http://aijcs.blogspot.com/2005/03/colourful-li...  phishing\n",
       "\n",
       "[64859 rows x 2 columns]"
      ]
     },
     "execution_count": 979,
     "metadata": {},
     "output_type": "execute_result"
    }
   ],
   "source": [
    "verified_online"
   ]
  },
  {
   "cell_type": "code",
   "execution_count": 980,
   "id": "7cea7a22",
   "metadata": {},
   "outputs": [
    {
     "data": {
      "text/html": [
       "<div>\n",
       "<style scoped>\n",
       "    .dataframe tbody tr th:only-of-type {\n",
       "        vertical-align: middle;\n",
       "    }\n",
       "\n",
       "    .dataframe tbody tr th {\n",
       "        vertical-align: top;\n",
       "    }\n",
       "\n",
       "    .dataframe thead th {\n",
       "        text-align: right;\n",
       "    }\n",
       "</style>\n",
       "<table border=\"1\" class=\"dataframe\">\n",
       "  <thead>\n",
       "    <tr style=\"text-align: right;\">\n",
       "      <th></th>\n",
       "      <th>url</th>\n",
       "      <th>type</th>\n",
       "    </tr>\n",
       "  </thead>\n",
       "  <tbody>\n",
       "    <tr>\n",
       "      <th>47996</th>\n",
       "      <td>www.sec.gov/edgar.shtml</td>\n",
       "      <td>benign</td>\n",
       "    </tr>\n",
       "    <tr>\n",
       "      <th>47997</th>\n",
       "      <td>www.taxsites.com/associations2.html</td>\n",
       "      <td>benign</td>\n",
       "    </tr>\n",
       "    <tr>\n",
       "      <th>47998</th>\n",
       "      <td>www.crescan.com/pakistanicma/</td>\n",
       "      <td>benign</td>\n",
       "    </tr>\n",
       "    <tr>\n",
       "      <th>47999</th>\n",
       "      <td>www.ficpa.org/content/home.aspx</td>\n",
       "      <td>benign</td>\n",
       "    </tr>\n",
       "    <tr>\n",
       "      <th>48000</th>\n",
       "      <td>pacioli.loyola.edu/aecm/</td>\n",
       "      <td>benign</td>\n",
       "    </tr>\n",
       "    <tr>\n",
       "      <th>...</th>\n",
       "      <td>...</td>\n",
       "      <td>...</td>\n",
       "    </tr>\n",
       "    <tr>\n",
       "      <th>96000</th>\n",
       "      <td>xbox360.ign.com/objects/850/850402.html</td>\n",
       "      <td>benign</td>\n",
       "    </tr>\n",
       "    <tr>\n",
       "      <th>96001</th>\n",
       "      <td>games.teamxbox.com/xbox-360/1860/Dead-Space/</td>\n",
       "      <td>benign</td>\n",
       "    </tr>\n",
       "    <tr>\n",
       "      <th>96002</th>\n",
       "      <td>www.gamespot.com/xbox360/action/deadspace/</td>\n",
       "      <td>benign</td>\n",
       "    </tr>\n",
       "    <tr>\n",
       "      <th>96003</th>\n",
       "      <td>en.wikipedia.org/wiki/Dead_Space_(video_game)</td>\n",
       "      <td>benign</td>\n",
       "    </tr>\n",
       "    <tr>\n",
       "      <th>96004</th>\n",
       "      <td>www.angelfire.com/goth/devilmaycrytonite/</td>\n",
       "      <td>benign</td>\n",
       "    </tr>\n",
       "  </tbody>\n",
       "</table>\n",
       "<p>48009 rows × 2 columns</p>\n",
       "</div>"
      ],
      "text/plain": [
       "                                                 url    type\n",
       "47996                        www.sec.gov/edgar.shtml  benign\n",
       "47997            www.taxsites.com/associations2.html  benign\n",
       "47998                  www.crescan.com/pakistanicma/  benign\n",
       "47999                www.ficpa.org/content/home.aspx  benign\n",
       "48000                       pacioli.loyola.edu/aecm/  benign\n",
       "...                                              ...     ...\n",
       "96000        xbox360.ign.com/objects/850/850402.html  benign\n",
       "96001   games.teamxbox.com/xbox-360/1860/Dead-Space/  benign\n",
       "96002     www.gamespot.com/xbox360/action/deadspace/  benign\n",
       "96003  en.wikipedia.org/wiki/Dead_Space_(video_game)  benign\n",
       "96004      www.angelfire.com/goth/devilmaycrytonite/  benign\n",
       "\n",
       "[48009 rows x 2 columns]"
      ]
     },
     "execution_count": 980,
     "metadata": {},
     "output_type": "execute_result"
    }
   ],
   "source": [
    "legitimate"
   ]
  },
  {
   "cell_type": "code",
   "execution_count": 981,
   "id": "2ec7836c",
   "metadata": {},
   "outputs": [
    {
     "data": {
      "text/html": [
       "<div>\n",
       "<style scoped>\n",
       "    .dataframe tbody tr th:only-of-type {\n",
       "        vertical-align: middle;\n",
       "    }\n",
       "\n",
       "    .dataframe tbody tr th {\n",
       "        vertical-align: top;\n",
       "    }\n",
       "\n",
       "    .dataframe thead th {\n",
       "        text-align: right;\n",
       "    }\n",
       "</style>\n",
       "<table border=\"1\" class=\"dataframe\">\n",
       "  <thead>\n",
       "    <tr style=\"text-align: right;\">\n",
       "      <th></th>\n",
       "      <th>url</th>\n",
       "      <th>type</th>\n",
       "    </tr>\n",
       "  </thead>\n",
       "  <tbody>\n",
       "    <tr>\n",
       "      <th>0</th>\n",
       "      <td>nobell.it/70ffb52d079109dca5664cce6f317373782/...</td>\n",
       "      <td>phishing</td>\n",
       "    </tr>\n",
       "    <tr>\n",
       "      <th>1</th>\n",
       "      <td>www.dghjdgf.com/paypal.co.uk/cycgi-bin/webscrc...</td>\n",
       "      <td>phishing</td>\n",
       "    </tr>\n",
       "    <tr>\n",
       "      <th>2</th>\n",
       "      <td>serviciosbys.com/paypal.cgi.bin.get-into.herf....</td>\n",
       "      <td>phishing</td>\n",
       "    </tr>\n",
       "    <tr>\n",
       "      <th>3</th>\n",
       "      <td>mail.printakid.com/www.online.americanexpress....</td>\n",
       "      <td>phishing</td>\n",
       "    </tr>\n",
       "    <tr>\n",
       "      <th>4</th>\n",
       "      <td>thewhiskeydregs.com/wp-content/themes/widescre...</td>\n",
       "      <td>phishing</td>\n",
       "    </tr>\n",
       "    <tr>\n",
       "      <th>...</th>\n",
       "      <td>...</td>\n",
       "      <td>...</td>\n",
       "    </tr>\n",
       "    <tr>\n",
       "      <th>47991</th>\n",
       "      <td>imetrica.net/css/</td>\n",
       "      <td>phishing</td>\n",
       "    </tr>\n",
       "    <tr>\n",
       "      <th>47992</th>\n",
       "      <td>www.idxband.com/telin/images/e-online.php</td>\n",
       "      <td>phishing</td>\n",
       "    </tr>\n",
       "    <tr>\n",
       "      <th>47993</th>\n",
       "      <td>www.coffeewithsophieinc.com/media/system/js/ca...</td>\n",
       "      <td>phishing</td>\n",
       "    </tr>\n",
       "    <tr>\n",
       "      <th>47994</th>\n",
       "      <td>conseguircreditos.webs.tl/</td>\n",
       "      <td>phishing</td>\n",
       "    </tr>\n",
       "    <tr>\n",
       "      <th>47995</th>\n",
       "      <td>www.vbacreation.fr/includes/Archive/Connect/Si...</td>\n",
       "      <td>phishing</td>\n",
       "    </tr>\n",
       "  </tbody>\n",
       "</table>\n",
       "<p>47904 rows × 2 columns</p>\n",
       "</div>"
      ],
      "text/plain": [
       "                                                     url      type\n",
       "0      nobell.it/70ffb52d079109dca5664cce6f317373782/...  phishing\n",
       "1      www.dghjdgf.com/paypal.co.uk/cycgi-bin/webscrc...  phishing\n",
       "2      serviciosbys.com/paypal.cgi.bin.get-into.herf....  phishing\n",
       "3      mail.printakid.com/www.online.americanexpress....  phishing\n",
       "4      thewhiskeydregs.com/wp-content/themes/widescre...  phishing\n",
       "...                                                  ...       ...\n",
       "47991                                  imetrica.net/css/  phishing\n",
       "47992          www.idxband.com/telin/images/e-online.php  phishing\n",
       "47993  www.coffeewithsophieinc.com/media/system/js/ca...  phishing\n",
       "47994                         conseguircreditos.webs.tl/  phishing\n",
       "47995  www.vbacreation.fr/includes/Archive/Connect/Si...  phishing\n",
       "\n",
       "[47904 rows x 2 columns]"
      ]
     },
     "execution_count": 981,
     "metadata": {},
     "output_type": "execute_result"
    }
   ],
   "source": [
    "phishing"
   ]
  },
  {
   "cell_type": "code",
   "execution_count": 982,
   "id": "8bb51e0b",
   "metadata": {},
   "outputs": [
    {
     "data": {
      "text/html": [
       "<div>\n",
       "<style scoped>\n",
       "    .dataframe tbody tr th:only-of-type {\n",
       "        vertical-align: middle;\n",
       "    }\n",
       "\n",
       "    .dataframe tbody tr th {\n",
       "        vertical-align: top;\n",
       "    }\n",
       "\n",
       "    .dataframe thead th {\n",
       "        text-align: right;\n",
       "    }\n",
       "</style>\n",
       "<table border=\"1\" class=\"dataframe\">\n",
       "  <thead>\n",
       "    <tr style=\"text-align: right;\">\n",
       "      <th></th>\n",
       "      <th>url</th>\n",
       "      <th>type</th>\n",
       "    </tr>\n",
       "  </thead>\n",
       "  <tbody>\n",
       "    <tr>\n",
       "      <th>0</th>\n",
       "      <td>http://www.sinduscongoias.com.br/index.php/ins...</td>\n",
       "      <td>defacement</td>\n",
       "    </tr>\n",
       "    <tr>\n",
       "      <th>1</th>\n",
       "      <td>http://www.sinduscongoias.com.br/index.php/ins...</td>\n",
       "      <td>defacement</td>\n",
       "    </tr>\n",
       "    <tr>\n",
       "      <th>2</th>\n",
       "      <td>http://www.sinduscongoias.com.br/index.php/ins...</td>\n",
       "      <td>defacement</td>\n",
       "    </tr>\n",
       "    <tr>\n",
       "      <th>3</th>\n",
       "      <td>http://www.sinduscongoias.com.br/index.php/ins...</td>\n",
       "      <td>defacement</td>\n",
       "    </tr>\n",
       "    <tr>\n",
       "      <th>4</th>\n",
       "      <td>http://www.sinduscongoias.com.br/index.php/ins...</td>\n",
       "      <td>defacement</td>\n",
       "    </tr>\n",
       "    <tr>\n",
       "      <th>...</th>\n",
       "      <td>...</td>\n",
       "      <td>...</td>\n",
       "    </tr>\n",
       "    <tr>\n",
       "      <th>96451</th>\n",
       "      <td>http://www.laurenzano.com.ar/index.php?option=...</td>\n",
       "      <td>defacement</td>\n",
       "    </tr>\n",
       "    <tr>\n",
       "      <th>96452</th>\n",
       "      <td>http://www.laurenzano.com.ar/templates/laurenz...</td>\n",
       "      <td>defacement</td>\n",
       "    </tr>\n",
       "    <tr>\n",
       "      <th>96453</th>\n",
       "      <td>http://www.laurenzano.com.ar/templates/laurenz...</td>\n",
       "      <td>defacement</td>\n",
       "    </tr>\n",
       "    <tr>\n",
       "      <th>96454</th>\n",
       "      <td>http://www.laurenzano.com.ar/x.txt</td>\n",
       "      <td>defacement</td>\n",
       "    </tr>\n",
       "    <tr>\n",
       "      <th>96455</th>\n",
       "      <td>http://www.emotionalassets.com/sejeal.jpg</td>\n",
       "      <td>defacement</td>\n",
       "    </tr>\n",
       "  </tbody>\n",
       "</table>\n",
       "<p>96456 rows × 2 columns</p>\n",
       "</div>"
      ],
      "text/plain": [
       "                                                     url        type\n",
       "0      http://www.sinduscongoias.com.br/index.php/ins...  defacement\n",
       "1      http://www.sinduscongoias.com.br/index.php/ins...  defacement\n",
       "2      http://www.sinduscongoias.com.br/index.php/ins...  defacement\n",
       "3      http://www.sinduscongoias.com.br/index.php/ins...  defacement\n",
       "4      http://www.sinduscongoias.com.br/index.php/ins...  defacement\n",
       "...                                                  ...         ...\n",
       "96451  http://www.laurenzano.com.ar/index.php?option=...  defacement\n",
       "96452  http://www.laurenzano.com.ar/templates/laurenz...  defacement\n",
       "96453  http://www.laurenzano.com.ar/templates/laurenz...  defacement\n",
       "96454                 http://www.laurenzano.com.ar/x.txt  defacement\n",
       "96455          http://www.emotionalassets.com/sejeal.jpg  defacement\n",
       "\n",
       "[96456 rows x 2 columns]"
      ]
     },
     "execution_count": 982,
     "metadata": {},
     "output_type": "execute_result"
    }
   ],
   "source": [
    "defacement"
   ]
  },
  {
   "cell_type": "code",
   "execution_count": 983,
   "id": "705eea46",
   "metadata": {},
   "outputs": [
    {
     "data": {
      "text/html": [
       "<div>\n",
       "<style scoped>\n",
       "    .dataframe tbody tr th:only-of-type {\n",
       "        vertical-align: middle;\n",
       "    }\n",
       "\n",
       "    .dataframe tbody tr th {\n",
       "        vertical-align: top;\n",
       "    }\n",
       "\n",
       "    .dataframe thead th {\n",
       "        text-align: right;\n",
       "    }\n",
       "</style>\n",
       "<table border=\"1\" class=\"dataframe\">\n",
       "  <thead>\n",
       "    <tr style=\"text-align: right;\">\n",
       "      <th></th>\n",
       "      <th>url</th>\n",
       "      <th>type</th>\n",
       "    </tr>\n",
       "  </thead>\n",
       "  <tbody>\n",
       "    <tr>\n",
       "      <th>0</th>\n",
       "      <td>http://gzzax.livechatvalue.com/chat/chatClient...</td>\n",
       "      <td>malware</td>\n",
       "    </tr>\n",
       "    <tr>\n",
       "      <th>1</th>\n",
       "      <td>http://gzzax.livechatvalue.com/chat/chatClient...</td>\n",
       "      <td>malware</td>\n",
       "    </tr>\n",
       "    <tr>\n",
       "      <th>2</th>\n",
       "      <td>http://gzzax.livechatvalue.com/chat/chatClient...</td>\n",
       "      <td>malware</td>\n",
       "    </tr>\n",
       "    <tr>\n",
       "      <th>3</th>\n",
       "      <td>http://mtsx.com.cn/UploadFiles/2011-08/admin/%...</td>\n",
       "      <td>malware</td>\n",
       "    </tr>\n",
       "    <tr>\n",
       "      <th>4</th>\n",
       "      <td>http://mtsx.com.cn/UploadFiles/2011-08/admin/%...</td>\n",
       "      <td>malware</td>\n",
       "    </tr>\n",
       "    <tr>\n",
       "      <th>...</th>\n",
       "      <td>...</td>\n",
       "      <td>...</td>\n",
       "    </tr>\n",
       "    <tr>\n",
       "      <th>11560</th>\n",
       "      <td>http://www.plastischechirurgie.net/gesicht/fac...</td>\n",
       "      <td>malware</td>\n",
       "    </tr>\n",
       "    <tr>\n",
       "      <th>11561</th>\n",
       "      <td>http://www.plastischechirurgie.net/haartranspl...</td>\n",
       "      <td>malware</td>\n",
       "    </tr>\n",
       "    <tr>\n",
       "      <th>11562</th>\n",
       "      <td>http://www.plastischechirurgie.net/korper/gyna...</td>\n",
       "      <td>malware</td>\n",
       "    </tr>\n",
       "    <tr>\n",
       "      <th>11563</th>\n",
       "      <td>http://dl.get1993desk.com/n/50517366/RealPlaye...</td>\n",
       "      <td>malware</td>\n",
       "    </tr>\n",
       "    <tr>\n",
       "      <th>11564</th>\n",
       "      <td>http://fb.com.accounts.login.userid.492739.fbs...</td>\n",
       "      <td>malware</td>\n",
       "    </tr>\n",
       "  </tbody>\n",
       "</table>\n",
       "<p>11565 rows × 2 columns</p>\n",
       "</div>"
      ],
      "text/plain": [
       "                                                     url     type\n",
       "0      http://gzzax.livechatvalue.com/chat/chatClient...  malware\n",
       "1      http://gzzax.livechatvalue.com/chat/chatClient...  malware\n",
       "2      http://gzzax.livechatvalue.com/chat/chatClient...  malware\n",
       "3      http://mtsx.com.cn/UploadFiles/2011-08/admin/%...  malware\n",
       "4      http://mtsx.com.cn/UploadFiles/2011-08/admin/%...  malware\n",
       "...                                                  ...      ...\n",
       "11560  http://www.plastischechirurgie.net/gesicht/fac...  malware\n",
       "11561  http://www.plastischechirurgie.net/haartranspl...  malware\n",
       "11562  http://www.plastischechirurgie.net/korper/gyna...  malware\n",
       "11563  http://dl.get1993desk.com/n/50517366/RealPlaye...  malware\n",
       "11564  http://fb.com.accounts.login.userid.492739.fbs...  malware\n",
       "\n",
       "[11565 rows x 2 columns]"
      ]
     },
     "execution_count": 983,
     "metadata": {},
     "output_type": "execute_result"
    }
   ],
   "source": [
    "malware"
   ]
  },
  {
   "cell_type": "code",
   "execution_count": 995,
   "id": "732c9f0c",
   "metadata": {},
   "outputs": [
    {
     "data": {
      "text/html": [
       "<div>\n",
       "<style scoped>\n",
       "    .dataframe tbody tr th:only-of-type {\n",
       "        vertical-align: middle;\n",
       "    }\n",
       "\n",
       "    .dataframe tbody tr th {\n",
       "        vertical-align: top;\n",
       "    }\n",
       "\n",
       "    .dataframe thead th {\n",
       "        text-align: right;\n",
       "    }\n",
       "</style>\n",
       "<table border=\"1\" class=\"dataframe\">\n",
       "  <thead>\n",
       "    <tr style=\"text-align: right;\">\n",
       "      <th></th>\n",
       "      <th>url</th>\n",
       "      <th>type</th>\n",
       "    </tr>\n",
       "  </thead>\n",
       "  <tbody>\n",
       "    <tr>\n",
       "      <th>0</th>\n",
       "      <td>http://bid.openx.net/json?amp;amp;amp;amp;cid;...</td>\n",
       "      <td>phishing</td>\n",
       "    </tr>\n",
       "    <tr>\n",
       "      <th>1</th>\n",
       "      <td>http://webmail2.centurytel.net/hwebmail/servic...</td>\n",
       "      <td>phishing</td>\n",
       "    </tr>\n",
       "    <tr>\n",
       "      <th>2</th>\n",
       "      <td>http://www.google.com.ng/imgres?imgurl=http://...</td>\n",
       "      <td>phishing</td>\n",
       "    </tr>\n",
       "    <tr>\n",
       "      <th>3</th>\n",
       "      <td>http://webmail2.centurytel.net/hwebmail/servic...</td>\n",
       "      <td>phishing</td>\n",
       "    </tr>\n",
       "    <tr>\n",
       "      <th>4</th>\n",
       "      <td>http://www.liceonuzzi.it/cmd=_Inf/connectionSt...</td>\n",
       "      <td>phishing</td>\n",
       "    </tr>\n",
       "    <tr>\n",
       "      <th>...</th>\n",
       "      <td>...</td>\n",
       "      <td>...</td>\n",
       "    </tr>\n",
       "    <tr>\n",
       "      <th>9959</th>\n",
       "      <td>http://highedgesolar.com/nw/includes/</td>\n",
       "      <td>phishing</td>\n",
       "    </tr>\n",
       "    <tr>\n",
       "      <th>9960</th>\n",
       "      <td>http://jimfangimporters.yolasite.com/</td>\n",
       "      <td>phishing</td>\n",
       "    </tr>\n",
       "    <tr>\n",
       "      <th>9961</th>\n",
       "      <td>http://liuheng.chengxuren.com/Images/</td>\n",
       "      <td>phishing</td>\n",
       "    </tr>\n",
       "    <tr>\n",
       "      <th>9962</th>\n",
       "      <td>http://mcnaotempreco.net/site/portal/</td>\n",
       "      <td>phishing</td>\n",
       "    </tr>\n",
       "    <tr>\n",
       "      <th>9963</th>\n",
       "      <td>http://missionaryfilms.org/index.html</td>\n",
       "      <td>phishing</td>\n",
       "    </tr>\n",
       "  </tbody>\n",
       "</table>\n",
       "<p>9964 rows × 2 columns</p>\n",
       "</div>"
      ],
      "text/plain": [
       "                                                    url      type\n",
       "0     http://bid.openx.net/json?amp;amp;amp;amp;cid;...  phishing\n",
       "1     http://webmail2.centurytel.net/hwebmail/servic...  phishing\n",
       "2     http://www.google.com.ng/imgres?imgurl=http://...  phishing\n",
       "3     http://webmail2.centurytel.net/hwebmail/servic...  phishing\n",
       "4     http://www.liceonuzzi.it/cmd=_Inf/connectionSt...  phishing\n",
       "...                                                 ...       ...\n",
       "9959              http://highedgesolar.com/nw/includes/  phishing\n",
       "9960              http://jimfangimporters.yolasite.com/  phishing\n",
       "9961              http://liuheng.chengxuren.com/Images/  phishing\n",
       "9962              http://mcnaotempreco.net/site/portal/  phishing\n",
       "9963              http://missionaryfilms.org/index.html  phishing\n",
       "\n",
       "[9964 rows x 2 columns]"
      ]
     },
     "execution_count": 995,
     "metadata": {},
     "output_type": "execute_result"
    }
   ],
   "source": [
    "phishing_2"
   ]
  },
  {
   "cell_type": "code",
   "execution_count": 985,
   "id": "8fd13f13",
   "metadata": {},
   "outputs": [
    {
     "data": {
      "text/html": [
       "<div>\n",
       "<style scoped>\n",
       "    .dataframe tbody tr th:only-of-type {\n",
       "        vertical-align: middle;\n",
       "    }\n",
       "\n",
       "    .dataframe tbody tr th {\n",
       "        vertical-align: top;\n",
       "    }\n",
       "\n",
       "    .dataframe thead th {\n",
       "        text-align: right;\n",
       "    }\n",
       "</style>\n",
       "<table border=\"1\" class=\"dataframe\">\n",
       "  <thead>\n",
       "    <tr style=\"text-align: right;\">\n",
       "      <th></th>\n",
       "      <th>url</th>\n",
       "      <th>type</th>\n",
       "    </tr>\n",
       "  </thead>\n",
       "  <tbody>\n",
       "    <tr>\n",
       "      <th>0</th>\n",
       "      <td>http://1337x.to/torrent/1110018/Blackhat-2015-...</td>\n",
       "      <td>benign</td>\n",
       "    </tr>\n",
       "    <tr>\n",
       "      <th>1</th>\n",
       "      <td>http://1337x.to/torrent/1122940/Blackhat-2015-...</td>\n",
       "      <td>benign</td>\n",
       "    </tr>\n",
       "    <tr>\n",
       "      <th>2</th>\n",
       "      <td>http://1337x.to/torrent/1124395/Fast-and-Furio...</td>\n",
       "      <td>benign</td>\n",
       "    </tr>\n",
       "    <tr>\n",
       "      <th>3</th>\n",
       "      <td>http://1337x.to/torrent/1145504/Avengers-Age-o...</td>\n",
       "      <td>benign</td>\n",
       "    </tr>\n",
       "    <tr>\n",
       "      <th>4</th>\n",
       "      <td>http://1337x.to/torrent/1160078/Avengers-age-o...</td>\n",
       "      <td>benign</td>\n",
       "    </tr>\n",
       "    <tr>\n",
       "      <th>...</th>\n",
       "      <td>...</td>\n",
       "      <td>...</td>\n",
       "    </tr>\n",
       "    <tr>\n",
       "      <th>35372</th>\n",
       "      <td>https://lastpass.com/signup2.php?ac=1&amp;from_uri...</td>\n",
       "      <td>benign</td>\n",
       "    </tr>\n",
       "    <tr>\n",
       "      <th>35373</th>\n",
       "      <td>https://lastpass.com/signup2.php?ac=1&amp;from_uri...</td>\n",
       "      <td>benign</td>\n",
       "    </tr>\n",
       "    <tr>\n",
       "      <th>35374</th>\n",
       "      <td>https://lastpass.com/signup2.php?ac=1&amp;from_uri...</td>\n",
       "      <td>benign</td>\n",
       "    </tr>\n",
       "    <tr>\n",
       "      <th>35375</th>\n",
       "      <td>https://lastpass.com/signup2.php?ac=1&amp;from_uri...</td>\n",
       "      <td>benign</td>\n",
       "    </tr>\n",
       "    <tr>\n",
       "      <th>35376</th>\n",
       "      <td>https://asana.com/guide/videos/%22//fast.wisti...</td>\n",
       "      <td>benign</td>\n",
       "    </tr>\n",
       "  </tbody>\n",
       "</table>\n",
       "<p>35377 rows × 2 columns</p>\n",
       "</div>"
      ],
      "text/plain": [
       "                                                     url    type\n",
       "0      http://1337x.to/torrent/1110018/Blackhat-2015-...  benign\n",
       "1      http://1337x.to/torrent/1122940/Blackhat-2015-...  benign\n",
       "2      http://1337x.to/torrent/1124395/Fast-and-Furio...  benign\n",
       "3      http://1337x.to/torrent/1145504/Avengers-Age-o...  benign\n",
       "4      http://1337x.to/torrent/1160078/Avengers-age-o...  benign\n",
       "...                                                  ...     ...\n",
       "35372  https://lastpass.com/signup2.php?ac=1&from_uri...  benign\n",
       "35373  https://lastpass.com/signup2.php?ac=1&from_uri...  benign\n",
       "35374  https://lastpass.com/signup2.php?ac=1&from_uri...  benign\n",
       "35375  https://lastpass.com/signup2.php?ac=1&from_uri...  benign\n",
       "35376  https://asana.com/guide/videos/%22//fast.wisti...  benign\n",
       "\n",
       "[35377 rows x 2 columns]"
      ]
     },
     "execution_count": 985,
     "metadata": {},
     "output_type": "execute_result"
    }
   ],
   "source": [
    "benign"
   ]
  },
  {
   "cell_type": "code",
   "execution_count": 986,
   "id": "f446a359",
   "metadata": {},
   "outputs": [
    {
     "data": {
      "text/html": [
       "<div>\n",
       "<style scoped>\n",
       "    .dataframe tbody tr th:only-of-type {\n",
       "        vertical-align: middle;\n",
       "    }\n",
       "\n",
       "    .dataframe tbody tr th {\n",
       "        vertical-align: top;\n",
       "    }\n",
       "\n",
       "    .dataframe thead th {\n",
       "        text-align: right;\n",
       "    }\n",
       "</style>\n",
       "<table border=\"1\" class=\"dataframe\">\n",
       "  <thead>\n",
       "    <tr style=\"text-align: right;\">\n",
       "      <th></th>\n",
       "      <th>url</th>\n",
       "      <th>type</th>\n",
       "    </tr>\n",
       "  </thead>\n",
       "  <tbody>\n",
       "    <tr>\n",
       "      <th>0</th>\n",
       "      <td>news.grouptumbler.com/news/feed.php</td>\n",
       "      <td>bad</td>\n",
       "    </tr>\n",
       "    <tr>\n",
       "      <th>1</th>\n",
       "      <td>info.leveldelta.com/php/text.php</td>\n",
       "      <td>bad</td>\n",
       "    </tr>\n",
       "    <tr>\n",
       "      <th>2</th>\n",
       "      <td>citroen-club.ch/n.exe</td>\n",
       "      <td>bad</td>\n",
       "    </tr>\n",
       "    <tr>\n",
       "      <th>3</th>\n",
       "      <td>zehir4.asp</td>\n",
       "      <td>bad</td>\n",
       "    </tr>\n",
       "    <tr>\n",
       "      <th>4</th>\n",
       "      <td>ZHC_Shell_1.0.aspx</td>\n",
       "      <td>bad</td>\n",
       "    </tr>\n",
       "    <tr>\n",
       "      <th>...</th>\n",
       "      <td>...</td>\n",
       "      <td>...</td>\n",
       "    </tr>\n",
       "    <tr>\n",
       "      <th>32870</th>\n",
       "      <td>23.227.196.215/</td>\n",
       "      <td>bad</td>\n",
       "    </tr>\n",
       "    <tr>\n",
       "      <th>32871</th>\n",
       "      <td>apple-checker.org/</td>\n",
       "      <td>bad</td>\n",
       "    </tr>\n",
       "    <tr>\n",
       "      <th>32872</th>\n",
       "      <td>apple-iclods.org/</td>\n",
       "      <td>bad</td>\n",
       "    </tr>\n",
       "    <tr>\n",
       "      <th>32873</th>\n",
       "      <td>apple-uptoday.org/</td>\n",
       "      <td>bad</td>\n",
       "    </tr>\n",
       "    <tr>\n",
       "      <th>32874</th>\n",
       "      <td>apple-search.info</td>\n",
       "      <td>bad</td>\n",
       "    </tr>\n",
       "  </tbody>\n",
       "</table>\n",
       "<p>32875 rows × 2 columns</p>\n",
       "</div>"
      ],
      "text/plain": [
       "                                       url type\n",
       "0      news.grouptumbler.com/news/feed.php  bad\n",
       "1         info.leveldelta.com/php/text.php  bad\n",
       "2                    citroen-club.ch/n.exe  bad\n",
       "3                               zehir4.asp  bad\n",
       "4                       ZHC_Shell_1.0.aspx  bad\n",
       "...                                    ...  ...\n",
       "32870                      23.227.196.215/  bad\n",
       "32871                   apple-checker.org/  bad\n",
       "32872                    apple-iclods.org/  bad\n",
       "32873                   apple-uptoday.org/  bad\n",
       "32874                    apple-search.info  bad\n",
       "\n",
       "[32875 rows x 2 columns]"
      ]
     },
     "execution_count": 986,
     "metadata": {},
     "output_type": "execute_result"
    }
   ],
   "source": [
    "data2.columns = ['url', 'type']\n",
    "data2"
   ]
  },
  {
   "cell_type": "markdown",
   "id": "c7d74d8b",
   "metadata": {},
   "source": [
    "# Merging the Datasets"
   ]
  },
  {
   "cell_type": "code",
   "execution_count": 987,
   "id": "7dcacca7",
   "metadata": {},
   "outputs": [],
   "source": [
    "data = pd.concat((legitimate,phishing, defacement, malware, phishing_2, data2, data1[:150000], verified_online, malware1), axis =0)"
   ]
  },
  {
   "cell_type": "code",
   "execution_count": 989,
   "id": "51cbc0f1",
   "metadata": {},
   "outputs": [
    {
     "data": {
      "text/plain": [
       "<AxesSubplot:>"
      ]
     },
     "execution_count": 989,
     "metadata": {},
     "output_type": "execute_result"
    },
    {
     "data": {
      "image/png": "[encoded data removed]",
      "text/plain": [
       "<Figure size 432x288 with 1 Axes>"
      ]
     },
     "metadata": {
      "needs_background": "light"
     },
     "output_type": "display_data"
    }
   ],
   "source": [
    "import matplotlib.pyplot as plt\n",
    "data['type'].value_counts().plot(kind ='bar')"
   ]
  },
  {
   "cell_type": "code",
   "execution_count": 990,
   "id": "a6dd9342",
   "metadata": {},
   "outputs": [
    {
     "data": {
      "text/plain": [
       "benign        155242\n",
       "phishing      122727\n",
       "defacement     96456\n",
       "bad            75642\n",
       "malware        44085\n",
       "Name: type, dtype: int64"
      ]
     },
     "execution_count": 990,
     "metadata": {},
     "output_type": "execute_result"
    }
   ],
   "source": [
    "data['type'].value_counts()"
   ]
  },
  {
   "cell_type": "code",
   "execution_count": 991,
   "id": "23546058",
   "metadata": {},
   "outputs": [
    {
     "data": {
      "text/plain": [
       "(494152, 2)"
      ]
     },
     "execution_count": 991,
     "metadata": {},
     "output_type": "execute_result"
    }
   ],
   "source": [
    "data.shape"
   ]
  },
  {
   "cell_type": "code",
   "execution_count": 992,
   "id": "3309fc16",
   "metadata": {},
   "outputs": [],
   "source": [
    "# Dropping off duplicated values\n",
    "data.drop_duplicates(inplace = True)"
   ]
  },
  {
   "cell_type": "code",
   "execution_count": 993,
   "id": "52fe8193",
   "metadata": {},
   "outputs": [
    {
     "data": {
      "text/plain": [
       "benign        155236\n",
       "phishing      122711\n",
       "defacement     95307\n",
       "bad            66447\n",
       "malware        23645\n",
       "Name: type, dtype: int64"
      ]
     },
     "execution_count": 993,
     "metadata": {},
     "output_type": "execute_result"
    }
   ],
   "source": [
    "data['type'].value_counts()"
   ]
  },
  {
   "cell_type": "code",
   "execution_count": 994,
   "id": "afb35550",
   "metadata": {},
   "outputs": [
    {
     "data": {
      "text/plain": [
       "<AxesSubplot:>"
      ]
     },
     "execution_count": 994,
     "metadata": {},
     "output_type": "execute_result"
    },
    {
     "data": {
      "image/png": "[encoded data removed]",
      "text/plain": [
       "<Figure size 432x288 with 1 Axes>"
      ]
     },
     "metadata": {
      "needs_background": "light"
     },
     "output_type": "display_data"
    }
   ],
   "source": [
    "data['type'].value_counts().plot(kind ='bar')"
   ]
  },
  {
   "cell_type": "markdown",
   "id": "a565bd22",
   "metadata": {},
   "source": [
    "# saving our final dataset"
   ]
  },
  {
   "cell_type": "code",
   "execution_count": 996,
   "id": "04869830",
   "metadata": {},
   "outputs": [],
   "source": [
    "# data.to_csv(\"datasets.csv\")"
   ]
  },
  {
   "cell_type": "code",
   "execution_count": null,
   "id": "f2c30ef9",
   "metadata": {},
   "outputs": [],
   "source": []
  }
 ],
 "metadata": {
  "kernelspec": {
   "display_name": "Python 3 (ipykernel)",
   "language": "python",
   "name": "python3"
  },
  "language_info": {
   "codemirror_mode": {
    "name": "ipython",
    "version": 3
   },
   "file_extension": ".py",
   "mimetype": "text/x-python",
   "name": "python",
   "nbconvert_exporter": "python",
   "pygments_lexer": "ipython3",
   "version": "3.9.12"
  }
 },
 "nbformat": 4,
 "nbformat_minor": 5
}
